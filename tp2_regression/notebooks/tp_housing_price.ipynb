{
 "cells": [
  {
   "cell_type": "markdown",
   "id": "f0fa2bc2-4dfc-48c0-a9fc-0976e86187c5",
   "metadata": {},
   "source": [
    "## Summary\n",
    "\n",
    "L’objectif de ce projet est de construire et comparer différents modèles de régression linéaire afin de prédire la valeur médiane des logements en Californie à partir de caractéristiques socio-économiques et géographiques."
   ]
  },
  {
   "cell_type": "markdown",
   "id": "a39d6ca7-158c-4136-a488-4a1c8c7b63d9",
   "metadata": {},
   "source": [
    "## Import librairies"
   ]
  },
  {
   "cell_type": "code",
   "execution_count": 1,
   "id": "3bd9e11d-0940-4744-9168-c8b90288c78a",
   "metadata": {
    "execution": {
     "iopub.execute_input": "2025-09-30T04:58:23.781853Z",
     "iopub.status.busy": "2025-09-30T04:58:23.780270Z",
     "iopub.status.idle": "2025-09-30T04:58:24.058047Z",
     "shell.execute_reply": "2025-09-30T04:58:24.057669Z",
     "shell.execute_reply.started": "2025-09-30T04:58:23.781799Z"
    }
   },
   "outputs": [],
   "source": [
    "from pathlib import Path\n",
    "\n",
    "import pandas as pd\n",
    "from loguru import logger"
   ]
  },
  {
   "cell_type": "markdown",
   "id": "5a044e17-23e8-4cce-b8ff-fa3b5ddeb589",
   "metadata": {},
   "source": [
    "## Settings"
   ]
  },
  {
   "cell_type": "code",
   "execution_count": 2,
   "id": "a649164d-cff1-454d-9c75-a11cf52db6fd",
   "metadata": {
    "execution": {
     "iopub.execute_input": "2025-09-30T04:58:24.059198Z",
     "iopub.status.busy": "2025-09-30T04:58:24.059062Z",
     "iopub.status.idle": "2025-09-30T04:58:24.064207Z",
     "shell.execute_reply": "2025-09-30T04:58:24.063965Z",
     "shell.execute_reply.started": "2025-09-30T04:58:24.059188Z"
    }
   },
   "outputs": [
    {
     "name": "stderr",
     "output_type": "stream",
     "text": [
      "\u001b[32m2025-09-30 06:58:24.061\u001b[0m | \u001b[1mINFO    \u001b[0m | \u001b[36m__main__\u001b[0m:\u001b[36m<module>\u001b[0m:\u001b[36m13\u001b[0m - \u001b[1m\n",
      "Work directory: /Users/mouslydiaw/Documents/SenIA/handson-machine-learning/tp2_regression \n",
      "Data root: https://raw.githubusercontent.com/MouslyDiaw/handson-machine-learning/refs/heads/master/tp2_regression/data/housing.csv\n",
      "Models directory: /Users/mouslydiaw/Documents/SenIA/handson-machine-learning/tp2_regression/models\u001b[0m\n"
     ]
    }
   ],
   "source": [
    "# Return a new path pointing to the current working directory\n",
    "HOME_DIR = Path.cwd().parent\n",
    "\n",
    "# create a variable for data directory\n",
    "DATA_DOWNLOAD_ROOT = \"https://raw.githubusercontent.com/MouslyDiaw/handson-machine-learning/refs/heads/master/tp2_regression/data/housing.csv\"\n",
    "\n",
    "REPORT_DIR = Path(HOME_DIR, \"reports\")\n",
    "REPORT_DIR.mkdir(parents=True, exist_ok=True)\n",
    "\n",
    "MODEL_DIR = Path(HOME_DIR, \"models\")\n",
    "MODEL_DIR.mkdir(parents=True, exist_ok=True)\n",
    "\n",
    "logger.info(f\"\\nWork directory: {HOME_DIR} \\nData root: {DATA_DOWNLOAD_ROOT}\\nModels directory: {MODEL_DIR}\")"
   ]
  },
  {
   "cell_type": "markdown",
   "id": "9e3200b8-a5b2-45e2-8c46-438daa040396",
   "metadata": {
    "execution": {
     "iopub.execute_input": "2025-09-30T04:33:16.430217Z",
     "iopub.status.busy": "2025-09-30T04:33:16.429986Z",
     "iopub.status.idle": "2025-09-30T04:33:16.434205Z",
     "shell.execute_reply": "2025-09-30T04:33:16.433280Z",
     "shell.execute_reply.started": "2025-09-30T04:33:16.430203Z"
    }
   },
   "source": [
    "## Data collection"
   ]
  },
  {
   "cell_type": "code",
   "execution_count": 3,
   "id": "3d202722-1c18-4f7a-ac8a-0b8f537b0671",
   "metadata": {
    "execution": {
     "iopub.execute_input": "2025-09-30T04:58:24.064959Z",
     "iopub.status.busy": "2025-09-30T04:58:24.064774Z",
     "iopub.status.idle": "2025-09-30T04:58:24.070458Z",
     "shell.execute_reply": "2025-09-30T04:58:24.070013Z",
     "shell.execute_reply.started": "2025-09-30T04:58:24.064951Z"
    }
   },
   "outputs": [
    {
     "data": {
      "text/plain": [
       "PosixPath('https:/raw.githubusercontent.com/MouslyDiaw/handson-machine-learning/refs/heads/master/tp2_regression/data/housing.csv/housing.csv')"
      ]
     },
     "execution_count": 3,
     "metadata": {},
     "output_type": "execute_result"
    }
   ],
   "source": [
    "Path(DATA_DOWNLOAD_ROOT, \"housing.csv\")"
   ]
  },
  {
   "cell_type": "code",
   "execution_count": 4,
   "id": "b316e6d8-85ce-44d5-95a4-0ddbc5c2c60e",
   "metadata": {
    "execution": {
     "iopub.execute_input": "2025-09-30T04:58:24.071215Z",
     "iopub.status.busy": "2025-09-30T04:58:24.071025Z",
     "iopub.status.idle": "2025-09-30T04:58:24.204061Z",
     "shell.execute_reply": "2025-09-30T04:58:24.203227Z",
     "shell.execute_reply.started": "2025-09-30T04:58:24.071204Z"
    }
   },
   "outputs": [
    {
     "name": "stderr",
     "output_type": "stream",
     "text": [
      "\u001b[32m2025-09-30 06:58:24.201\u001b[0m | \u001b[1mINFO    \u001b[0m | \u001b[36m__main__\u001b[0m:\u001b[36m<module>\u001b[0m:\u001b[36m2\u001b[0m - \u001b[1mData shape: (20640, 10)\u001b[0m\n"
     ]
    }
   ],
   "source": [
    "data_housing = pd.read_csv(DATA_DOWNLOAD_ROOT)\n",
    "logger.info(f\"Data shape: {data_housing.shape}\")"
   ]
  },
  {
   "cell_type": "code",
   "execution_count": 11,
   "id": "749bdf67-6332-45b9-9e31-203a34abf0bd",
   "metadata": {
    "execution": {
     "iopub.execute_input": "2025-09-30T04:42:57.587531Z",
     "iopub.status.busy": "2025-09-30T04:42:57.587212Z",
     "iopub.status.idle": "2025-09-30T04:42:57.596194Z",
     "shell.execute_reply": "2025-09-30T04:42:57.595637Z",
     "shell.execute_reply.started": "2025-09-30T04:42:57.587508Z"
    }
   },
   "outputs": [
    {
     "name": "stderr",
     "output_type": "stream",
     "text": [
      "\u001b[32m2025-09-30 06:42:57.591\u001b[0m | \u001b[1mINFO    \u001b[0m | \u001b[36m__main__\u001b[0m:\u001b[36m<module>\u001b[0m:\u001b[36m1\u001b[0m - \u001b[1mFeatures/Target description: \n",
      ".. _california_housing_dataset:\n",
      "\n",
      "California Housing dataset\n",
      "--------------------------\n",
      "\n",
      "**Data Set Characteristics:**\n",
      "\n",
      ":Number of Instances: 20640\n",
      "\n",
      ":Number of Attributes: 8 numeric, predictive attributes and the target\n",
      "\n",
      ":Attribute Information:\n",
      "    - MedInc        median income in block group\n",
      "    - HouseAge      median house age in block group\n",
      "    - AveRooms      average number of rooms per household\n",
      "    - AveBedrms     average number of bedrooms per household\n",
      "    - Population    block group population\n",
      "    - AveOccup      average number of household members\n",
      "    - Latitude      block group latitude\n",
      "    - Longitude     block group longitude\n",
      "\n",
      ":Missing Attribute Values: None\n",
      "\n",
      "This dataset was obtained from the StatLib repository.\n",
      "https://www.dcc.fc.up.pt/~ltorgo/Regression/cal_housing.html\n",
      "\n",
      "The target variable is the median house value for California districts,\n",
      "expressed in hundreds of thousands of dollars ($100,000).\n",
      "\n",
      "This dataset was derived from the 1990 U.S. census, using one row per census\n",
      "block group. A block group is the smallest geographical unit for which the U.S.\n",
      "Census Bureau publishes sample data (a block group typically has a population\n",
      "of 600 to 3,000 people).\n",
      "\n",
      "A household is a group of people residing within a home. Since the average\n",
      "number of rooms and bedrooms in this dataset are provided per household, these\n",
      "columns may take surprisingly large values for block groups with few households\n",
      "and many empty houses, such as vacation resorts.\n",
      "\n",
      "It can be downloaded/loaded using the\n",
      ":func:`sklearn.datasets.fetch_california_housing` function.\n",
      "\n",
      ".. rubric:: References\n",
      "\n",
      "- Pace, R. Kelley and Ronald Barry, Sparse Spatial Autoregressions,\n",
      "  Statistics and Probability Letters, 33:291-297, 1997.\n",
      "\u001b[0m\n"
     ]
    }
   ],
   "source": [
    "logger.info(f\"Features/Target description: \\n{housing.DESCR}\")"
   ]
  },
  {
   "cell_type": "code",
   "execution_count": 5,
   "id": "4b4a2e3b-c232-46e9-8013-7e1b4e1b14c5",
   "metadata": {
    "execution": {
     "iopub.execute_input": "2025-09-30T04:58:50.344570Z",
     "iopub.status.busy": "2025-09-30T04:58:50.343492Z",
     "iopub.status.idle": "2025-09-30T04:58:50.380930Z",
     "shell.execute_reply": "2025-09-30T04:58:50.380287Z",
     "shell.execute_reply.started": "2025-09-30T04:58:50.344519Z"
    }
   },
   "outputs": [
    {
     "data": {
      "text/html": [
       "<div>\n",
       "<style scoped>\n",
       "    .dataframe tbody tr th:only-of-type {\n",
       "        vertical-align: middle;\n",
       "    }\n",
       "\n",
       "    .dataframe tbody tr th {\n",
       "        vertical-align: top;\n",
       "    }\n",
       "\n",
       "    .dataframe thead th {\n",
       "        text-align: right;\n",
       "    }\n",
       "</style>\n",
       "<table border=\"1\" class=\"dataframe\">\n",
       "  <thead>\n",
       "    <tr style=\"text-align: right;\">\n",
       "      <th></th>\n",
       "      <th>longitude</th>\n",
       "      <th>latitude</th>\n",
       "      <th>housing_median_age</th>\n",
       "      <th>total_rooms</th>\n",
       "      <th>total_bedrooms</th>\n",
       "      <th>population</th>\n",
       "      <th>households</th>\n",
       "      <th>median_income</th>\n",
       "      <th>median_house_value</th>\n",
       "      <th>ocean_proximity</th>\n",
       "    </tr>\n",
       "  </thead>\n",
       "  <tbody>\n",
       "    <tr>\n",
       "      <th>0</th>\n",
       "      <td>-122.23</td>\n",
       "      <td>37.88</td>\n",
       "      <td>41.0</td>\n",
       "      <td>880.0</td>\n",
       "      <td>129.0</td>\n",
       "      <td>322.0</td>\n",
       "      <td>126.0</td>\n",
       "      <td>8.3252</td>\n",
       "      <td>452600.0</td>\n",
       "      <td>NEAR BAY</td>\n",
       "    </tr>\n",
       "    <tr>\n",
       "      <th>1</th>\n",
       "      <td>-122.22</td>\n",
       "      <td>37.86</td>\n",
       "      <td>21.0</td>\n",
       "      <td>7099.0</td>\n",
       "      <td>1106.0</td>\n",
       "      <td>2401.0</td>\n",
       "      <td>1138.0</td>\n",
       "      <td>8.3014</td>\n",
       "      <td>358500.0</td>\n",
       "      <td>NEAR BAY</td>\n",
       "    </tr>\n",
       "    <tr>\n",
       "      <th>2</th>\n",
       "      <td>-122.24</td>\n",
       "      <td>37.85</td>\n",
       "      <td>52.0</td>\n",
       "      <td>1467.0</td>\n",
       "      <td>190.0</td>\n",
       "      <td>496.0</td>\n",
       "      <td>177.0</td>\n",
       "      <td>7.2574</td>\n",
       "      <td>352100.0</td>\n",
       "      <td>NEAR BAY</td>\n",
       "    </tr>\n",
       "    <tr>\n",
       "      <th>3</th>\n",
       "      <td>-122.25</td>\n",
       "      <td>37.85</td>\n",
       "      <td>52.0</td>\n",
       "      <td>1274.0</td>\n",
       "      <td>235.0</td>\n",
       "      <td>558.0</td>\n",
       "      <td>219.0</td>\n",
       "      <td>5.6431</td>\n",
       "      <td>341300.0</td>\n",
       "      <td>NEAR BAY</td>\n",
       "    </tr>\n",
       "    <tr>\n",
       "      <th>4</th>\n",
       "      <td>-122.25</td>\n",
       "      <td>37.85</td>\n",
       "      <td>52.0</td>\n",
       "      <td>1627.0</td>\n",
       "      <td>280.0</td>\n",
       "      <td>565.0</td>\n",
       "      <td>259.0</td>\n",
       "      <td>3.8462</td>\n",
       "      <td>342200.0</td>\n",
       "      <td>NEAR BAY</td>\n",
       "    </tr>\n",
       "  </tbody>\n",
       "</table>\n",
       "</div>"
      ],
      "text/plain": [
       "   longitude  latitude  housing_median_age  total_rooms  total_bedrooms  \\\n",
       "0    -122.23     37.88                41.0        880.0           129.0   \n",
       "1    -122.22     37.86                21.0       7099.0          1106.0   \n",
       "2    -122.24     37.85                52.0       1467.0           190.0   \n",
       "3    -122.25     37.85                52.0       1274.0           235.0   \n",
       "4    -122.25     37.85                52.0       1627.0           280.0   \n",
       "\n",
       "   population  households  median_income  median_house_value ocean_proximity  \n",
       "0       322.0       126.0         8.3252            452600.0        NEAR BAY  \n",
       "1      2401.0      1138.0         8.3014            358500.0        NEAR BAY  \n",
       "2       496.0       177.0         7.2574            352100.0        NEAR BAY  \n",
       "3       558.0       219.0         5.6431            341300.0        NEAR BAY  \n",
       "4       565.0       259.0         3.8462            342200.0        NEAR BAY  "
      ]
     },
     "execution_count": 5,
     "metadata": {},
     "output_type": "execute_result"
    }
   ],
   "source": [
    "data_housing.head()"
   ]
  },
  {
   "cell_type": "code",
   "execution_count": null,
   "id": "32cec59c-bd05-4772-b154-1c26f59a9141",
   "metadata": {},
   "outputs": [],
   "source": []
  }
 ],
 "metadata": {
  "kernelspec": {
   "display_name": "handson",
   "language": "python",
   "name": "handson"
  },
  "language_info": {
   "codemirror_mode": {
    "name": "ipython",
    "version": 3
   },
   "file_extension": ".py",
   "mimetype": "text/x-python",
   "name": "python",
   "nbconvert_exporter": "python",
   "pygments_lexer": "ipython3",
   "version": "3.12.11"
  }
 },
 "nbformat": 4,
 "nbformat_minor": 5
}
