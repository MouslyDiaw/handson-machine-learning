{
 "cells": [
  {
   "cell_type": "markdown",
   "id": "f0fa2bc2-4dfc-48c0-a9fc-0976e86187c5",
   "metadata": {},
   "source": [
    "## Summary"
   ]
  },
  {
   "cell_type": "markdown",
   "id": "a39d6ca7-158c-4136-a488-4a1c8c7b63d9",
   "metadata": {},
   "source": [
    "## Import librairies"
   ]
  },
  {
   "cell_type": "code",
   "execution_count": 3,
   "id": "3bd9e11d-0940-4744-9168-c8b90288c78a",
   "metadata": {
    "execution": {
     "iopub.execute_input": "2025-09-30T04:36:09.394896Z",
     "iopub.status.busy": "2025-09-30T04:36:09.391283Z",
     "iopub.status.idle": "2025-09-30T04:36:09.428202Z",
     "shell.execute_reply": "2025-09-30T04:36:09.418419Z",
     "shell.execute_reply.started": "2025-09-30T04:36:09.394834Z"
    }
   },
   "outputs": [],
   "source": [
    "from pathlib import Path\n",
    "\n",
    "from loguru import logger\n",
    "from sklearn.datasets import fetch_california_housing"
   ]
  },
  {
   "cell_type": "markdown",
   "id": "5a044e17-23e8-4cce-b8ff-fa3b5ddeb589",
   "metadata": {},
   "source": [
    "## Settings"
   ]
  },
  {
   "cell_type": "code",
   "execution_count": 4,
   "id": "a649164d-cff1-454d-9c75-a11cf52db6fd",
   "metadata": {
    "execution": {
     "iopub.execute_input": "2025-09-30T04:36:10.840857Z",
     "iopub.status.busy": "2025-09-30T04:36:10.836812Z",
     "iopub.status.idle": "2025-09-30T04:36:11.036649Z",
     "shell.execute_reply": "2025-09-30T04:36:11.010729Z",
     "shell.execute_reply.started": "2025-09-30T04:36:10.840775Z"
    }
   },
   "outputs": [
    {
     "name": "stderr",
     "output_type": "stream",
     "text": [
      "\u001b[32m2025-09-30 06:36:10.923\u001b[0m | \u001b[1mINFO    \u001b[0m | \u001b[36m__main__\u001b[0m:\u001b[36m<module>\u001b[0m:\u001b[36m14\u001b[0m - \u001b[1m\n",
      "Work directory: /Users/mouslydiaw/Documents/SenIA/handson-machine-learning/tp2_regression \n",
      "Data directory: /Users/mouslydiaw/Documents/SenIA/handson-machine-learning/tp2_regression/data\n",
      "Models directory: /Users/mouslydiaw/Documents/SenIA/handson-machine-learning/tp2_regression/models\u001b[0m\n"
     ]
    }
   ],
   "source": [
    "# Return a new path pointing to the current working directory\n",
    "HOME_DIR = Path.cwd().parent\n",
    "\n",
    "# create a variable for data directory\n",
    "DATA_DIR = Path(HOME_DIR, \"data\")\n",
    "DATA_DIR.mkdir(parents=True, exist_ok=True)\n",
    "\n",
    "REPORT_DIR = Path(HOME_DIR, \"reports\")\n",
    "REPORT_DIR.mkdir(parents=True, exist_ok=True)\n",
    "\n",
    "MODEL_DIR = Path(HOME_DIR, \"models\")\n",
    "MODEL_DIR.mkdir(parents=True, exist_ok=True)\n",
    "\n",
    "logger.info(f\"\\nWork directory: {HOME_DIR} \\nData directory: {DATA_DIR}\\nModels directory: {MODEL_DIR}\")"
   ]
  },
  {
   "cell_type": "markdown",
   "id": "9e3200b8-a5b2-45e2-8c46-438daa040396",
   "metadata": {
    "execution": {
     "iopub.execute_input": "2025-09-30T04:33:16.430217Z",
     "iopub.status.busy": "2025-09-30T04:33:16.429986Z",
     "iopub.status.idle": "2025-09-30T04:33:16.434205Z",
     "shell.execute_reply": "2025-09-30T04:33:16.433280Z",
     "shell.execute_reply.started": "2025-09-30T04:33:16.430203Z"
    }
   },
   "source": [
    "## Data collection"
   ]
  },
  {
   "cell_type": "code",
   "execution_count": 6,
   "id": "b316e6d8-85ce-44d5-95a4-0ddbc5c2c60e",
   "metadata": {
    "execution": {
     "iopub.execute_input": "2025-09-30T04:36:27.975731Z",
     "iopub.status.busy": "2025-09-30T04:36:27.974354Z",
     "iopub.status.idle": "2025-09-30T04:36:28.027545Z",
     "shell.execute_reply": "2025-09-30T04:36:28.026851Z",
     "shell.execute_reply.started": "2025-09-30T04:36:27.975685Z"
    }
   },
   "outputs": [
    {
     "name": "stderr",
     "output_type": "stream",
     "text": [
      "\u001b[32m2025-09-30 06:36:28.023\u001b[0m | \u001b[1mINFO    \u001b[0m | \u001b[36m__main__\u001b[0m:\u001b[36m<module>\u001b[0m:\u001b[36m3\u001b[0m - \u001b[1mData shape: (20640, 9)\u001b[0m\n"
     ]
    }
   ],
   "source": [
    "housing = fetch_california_housing(as_frame=True)\n",
    "data_housing = housing.frame  # dataframe pandas directement\n",
    "logger.info(f\"Data shape: {data_housing.shape}\")"
   ]
  },
  {
   "cell_type": "code",
   "execution_count": 11,
   "id": "749bdf67-6332-45b9-9e31-203a34abf0bd",
   "metadata": {
    "execution": {
     "iopub.execute_input": "2025-09-30T04:42:57.587531Z",
     "iopub.status.busy": "2025-09-30T04:42:57.587212Z",
     "iopub.status.idle": "2025-09-30T04:42:57.596194Z",
     "shell.execute_reply": "2025-09-30T04:42:57.595637Z",
     "shell.execute_reply.started": "2025-09-30T04:42:57.587508Z"
    }
   },
   "outputs": [
    {
     "name": "stderr",
     "output_type": "stream",
     "text": [
      "\u001b[32m2025-09-30 06:42:57.591\u001b[0m | \u001b[1mINFO    \u001b[0m | \u001b[36m__main__\u001b[0m:\u001b[36m<module>\u001b[0m:\u001b[36m1\u001b[0m - \u001b[1mFeatures/Target description: \n",
      ".. _california_housing_dataset:\n",
      "\n",
      "California Housing dataset\n",
      "--------------------------\n",
      "\n",
      "**Data Set Characteristics:**\n",
      "\n",
      ":Number of Instances: 20640\n",
      "\n",
      ":Number of Attributes: 8 numeric, predictive attributes and the target\n",
      "\n",
      ":Attribute Information:\n",
      "    - MedInc        median income in block group\n",
      "    - HouseAge      median house age in block group\n",
      "    - AveRooms      average number of rooms per household\n",
      "    - AveBedrms     average number of bedrooms per household\n",
      "    - Population    block group population\n",
      "    - AveOccup      average number of household members\n",
      "    - Latitude      block group latitude\n",
      "    - Longitude     block group longitude\n",
      "\n",
      ":Missing Attribute Values: None\n",
      "\n",
      "This dataset was obtained from the StatLib repository.\n",
      "https://www.dcc.fc.up.pt/~ltorgo/Regression/cal_housing.html\n",
      "\n",
      "The target variable is the median house value for California districts,\n",
      "expressed in hundreds of thousands of dollars ($100,000).\n",
      "\n",
      "This dataset was derived from the 1990 U.S. census, using one row per census\n",
      "block group. A block group is the smallest geographical unit for which the U.S.\n",
      "Census Bureau publishes sample data (a block group typically has a population\n",
      "of 600 to 3,000 people).\n",
      "\n",
      "A household is a group of people residing within a home. Since the average\n",
      "number of rooms and bedrooms in this dataset are provided per household, these\n",
      "columns may take surprisingly large values for block groups with few households\n",
      "and many empty houses, such as vacation resorts.\n",
      "\n",
      "It can be downloaded/loaded using the\n",
      ":func:`sklearn.datasets.fetch_california_housing` function.\n",
      "\n",
      ".. rubric:: References\n",
      "\n",
      "- Pace, R. Kelley and Ronald Barry, Sparse Spatial Autoregressions,\n",
      "  Statistics and Probability Letters, 33:291-297, 1997.\n",
      "\u001b[0m\n"
     ]
    }
   ],
   "source": [
    "logger.info(f\"Features/Target description: \\n{housing.DESCR}\")"
   ]
  },
  {
   "cell_type": "code",
   "execution_count": 7,
   "id": "4b4a2e3b-c232-46e9-8013-7e1b4e1b14c5",
   "metadata": {
    "execution": {
     "iopub.execute_input": "2025-09-30T04:36:29.799667Z",
     "iopub.status.busy": "2025-09-30T04:36:29.798732Z",
     "iopub.status.idle": "2025-09-30T04:36:29.830665Z",
     "shell.execute_reply": "2025-09-30T04:36:29.830355Z",
     "shell.execute_reply.started": "2025-09-30T04:36:29.799639Z"
    }
   },
   "outputs": [
    {
     "data": {
      "text/html": [
       "<div>\n",
       "<style scoped>\n",
       "    .dataframe tbody tr th:only-of-type {\n",
       "        vertical-align: middle;\n",
       "    }\n",
       "\n",
       "    .dataframe tbody tr th {\n",
       "        vertical-align: top;\n",
       "    }\n",
       "\n",
       "    .dataframe thead th {\n",
       "        text-align: right;\n",
       "    }\n",
       "</style>\n",
       "<table border=\"1\" class=\"dataframe\">\n",
       "  <thead>\n",
       "    <tr style=\"text-align: right;\">\n",
       "      <th></th>\n",
       "      <th>MedInc</th>\n",
       "      <th>HouseAge</th>\n",
       "      <th>AveRooms</th>\n",
       "      <th>AveBedrms</th>\n",
       "      <th>Population</th>\n",
       "      <th>AveOccup</th>\n",
       "      <th>Latitude</th>\n",
       "      <th>Longitude</th>\n",
       "      <th>MedHouseVal</th>\n",
       "    </tr>\n",
       "  </thead>\n",
       "  <tbody>\n",
       "    <tr>\n",
       "      <th>0</th>\n",
       "      <td>8.3252</td>\n",
       "      <td>41.0</td>\n",
       "      <td>6.984127</td>\n",
       "      <td>1.023810</td>\n",
       "      <td>322.0</td>\n",
       "      <td>2.555556</td>\n",
       "      <td>37.88</td>\n",
       "      <td>-122.23</td>\n",
       "      <td>4.526</td>\n",
       "    </tr>\n",
       "    <tr>\n",
       "      <th>1</th>\n",
       "      <td>8.3014</td>\n",
       "      <td>21.0</td>\n",
       "      <td>6.238137</td>\n",
       "      <td>0.971880</td>\n",
       "      <td>2401.0</td>\n",
       "      <td>2.109842</td>\n",
       "      <td>37.86</td>\n",
       "      <td>-122.22</td>\n",
       "      <td>3.585</td>\n",
       "    </tr>\n",
       "    <tr>\n",
       "      <th>2</th>\n",
       "      <td>7.2574</td>\n",
       "      <td>52.0</td>\n",
       "      <td>8.288136</td>\n",
       "      <td>1.073446</td>\n",
       "      <td>496.0</td>\n",
       "      <td>2.802260</td>\n",
       "      <td>37.85</td>\n",
       "      <td>-122.24</td>\n",
       "      <td>3.521</td>\n",
       "    </tr>\n",
       "    <tr>\n",
       "      <th>3</th>\n",
       "      <td>5.6431</td>\n",
       "      <td>52.0</td>\n",
       "      <td>5.817352</td>\n",
       "      <td>1.073059</td>\n",
       "      <td>558.0</td>\n",
       "      <td>2.547945</td>\n",
       "      <td>37.85</td>\n",
       "      <td>-122.25</td>\n",
       "      <td>3.413</td>\n",
       "    </tr>\n",
       "    <tr>\n",
       "      <th>4</th>\n",
       "      <td>3.8462</td>\n",
       "      <td>52.0</td>\n",
       "      <td>6.281853</td>\n",
       "      <td>1.081081</td>\n",
       "      <td>565.0</td>\n",
       "      <td>2.181467</td>\n",
       "      <td>37.85</td>\n",
       "      <td>-122.25</td>\n",
       "      <td>3.422</td>\n",
       "    </tr>\n",
       "  </tbody>\n",
       "</table>\n",
       "</div>"
      ],
      "text/plain": [
       "   MedInc  HouseAge  AveRooms  AveBedrms  Population  AveOccup  Latitude  \\\n",
       "0  8.3252      41.0  6.984127   1.023810       322.0  2.555556     37.88   \n",
       "1  8.3014      21.0  6.238137   0.971880      2401.0  2.109842     37.86   \n",
       "2  7.2574      52.0  8.288136   1.073446       496.0  2.802260     37.85   \n",
       "3  5.6431      52.0  5.817352   1.073059       558.0  2.547945     37.85   \n",
       "4  3.8462      52.0  6.281853   1.081081       565.0  2.181467     37.85   \n",
       "\n",
       "   Longitude  MedHouseVal  \n",
       "0    -122.23        4.526  \n",
       "1    -122.22        3.585  \n",
       "2    -122.24        3.521  \n",
       "3    -122.25        3.413  \n",
       "4    -122.25        3.422  "
      ]
     },
     "execution_count": 7,
     "metadata": {},
     "output_type": "execute_result"
    }
   ],
   "source": [
    "data_housing.head()"
   ]
  },
  {
   "cell_type": "code",
   "execution_count": null,
   "id": "32cec59c-bd05-4772-b154-1c26f59a9141",
   "metadata": {},
   "outputs": [],
   "source": []
  }
 ],
 "metadata": {
  "kernelspec": {
   "display_name": "handson",
   "language": "python",
   "name": "handson"
  },
  "language_info": {
   "codemirror_mode": {
    "name": "ipython",
    "version": 3
   },
   "file_extension": ".py",
   "mimetype": "text/x-python",
   "name": "python",
   "nbconvert_exporter": "python",
   "pygments_lexer": "ipython3",
   "version": "3.12.11"
  }
 },
 "nbformat": 4,
 "nbformat_minor": 5
}
